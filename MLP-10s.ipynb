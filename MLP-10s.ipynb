{
 "cells": [
  {
   "cell_type": "code",
   "execution_count": 1,
   "metadata": {},
   "outputs": [],
   "source": [
    "import numpy as np \n",
    "import pandas as pd\n",
    "from sklearn.neural_network import MLPClassifier"
   ]
  },
  {
   "cell_type": "code",
   "execution_count": 2,
   "metadata": {},
   "outputs": [
    {
     "data": {
      "text/html": [
       "<div>\n",
       "<style scoped>\n",
       "    .dataframe tbody tr th:only-of-type {\n",
       "        vertical-align: middle;\n",
       "    }\n",
       "\n",
       "    .dataframe tbody tr th {\n",
       "        vertical-align: top;\n",
       "    }\n",
       "\n",
       "    .dataframe thead th {\n",
       "        text-align: right;\n",
       "    }\n",
       "</style>\n",
       "<table border=\"1\" class=\"dataframe\">\n",
       "  <thead>\n",
       "    <tr style=\"text-align: right;\">\n",
       "      <th></th>\n",
       "      <th>second</th>\n",
       "      <th>src</th>\n",
       "      <th>DioCount</th>\n",
       "      <th>DisCount</th>\n",
       "      <th>DaoCount</th>\n",
       "      <th>OtherMsg</th>\n",
       "      <th>label</th>\n",
       "    </tr>\n",
       "  </thead>\n",
       "  <tbody>\n",
       "    <tr>\n",
       "      <th>0</th>\n",
       "      <td>60.0</td>\n",
       "      <td>fe80::c30c:0:0:8</td>\n",
       "      <td>60</td>\n",
       "      <td>0</td>\n",
       "      <td>71</td>\n",
       "      <td>0</td>\n",
       "      <td>0</td>\n",
       "    </tr>\n",
       "    <tr>\n",
       "      <th>1</th>\n",
       "      <td>60.0</td>\n",
       "      <td>fe80::c30c:0:0:4</td>\n",
       "      <td>30</td>\n",
       "      <td>0</td>\n",
       "      <td>51</td>\n",
       "      <td>0</td>\n",
       "      <td>0</td>\n",
       "    </tr>\n",
       "    <tr>\n",
       "      <th>2</th>\n",
       "      <td>60.0</td>\n",
       "      <td>fe80::c30c:0:0:c</td>\n",
       "      <td>0</td>\n",
       "      <td>1160</td>\n",
       "      <td>23</td>\n",
       "      <td>0</td>\n",
       "      <td>1</td>\n",
       "    </tr>\n",
       "    <tr>\n",
       "      <th>3</th>\n",
       "      <td>60.0</td>\n",
       "      <td>fe80::c30c:0:0:a</td>\n",
       "      <td>0</td>\n",
       "      <td>0</td>\n",
       "      <td>9</td>\n",
       "      <td>0</td>\n",
       "      <td>0</td>\n",
       "    </tr>\n",
       "    <tr>\n",
       "      <th>4</th>\n",
       "      <td>60.0</td>\n",
       "      <td>fe80::c30c:0:0:5</td>\n",
       "      <td>60</td>\n",
       "      <td>0</td>\n",
       "      <td>2</td>\n",
       "      <td>0</td>\n",
       "      <td>0</td>\n",
       "    </tr>\n",
       "  </tbody>\n",
       "</table>\n",
       "</div>"
      ],
      "text/plain": [
       "   second               src  DioCount  DisCount  DaoCount  OtherMsg  label\n",
       "0    60.0  fe80::c30c:0:0:8        60         0        71         0      0\n",
       "1    60.0  fe80::c30c:0:0:4        30         0        51         0      0\n",
       "2    60.0  fe80::c30c:0:0:c         0      1160        23         0      1\n",
       "3    60.0  fe80::c30c:0:0:a         0         0         9         0      0\n",
       "4    60.0  fe80::c30c:0:0:5        60         0         2         0      0"
      ]
     },
     "execution_count": 2,
     "metadata": {},
     "output_type": "execute_result"
    }
   ],
   "source": [
    "import pandas as pd\n",
    "cell_df = pd.read_csv(\"helloFlood10sFrame.csv\",sep=\";\")\n",
    "cell_df.head()"
   ]
  },
  {
   "cell_type": "code",
   "execution_count": 3,
   "metadata": {},
   "outputs": [
    {
     "data": {
      "text/plain": [
       "array([[  60,    0,   71,    0],\n",
       "       [  30,    0,   51,    0],\n",
       "       [   0, 1160,   23,    0],\n",
       "       [   0,    0,    9,    0],\n",
       "       [  60,    0,    2,    0]], dtype=int64)"
      ]
     },
     "execution_count": 3,
     "metadata": {},
     "output_type": "execute_result"
    }
   ],
   "source": [
    "import numpy as np\n",
    "feature_df = cell_df[['DioCount','DisCount','DaoCount','OtherMsg']]\n",
    "X = np.asarray(feature_df)\n",
    "X[0:5]"
   ]
  },
  {
   "cell_type": "code",
   "execution_count": 4,
   "metadata": {},
   "outputs": [
    {
     "data": {
      "text/plain": [
       "array([0, 0, 1, 0, 0], dtype=int64)"
      ]
     },
     "execution_count": 4,
     "metadata": {},
     "output_type": "execute_result"
    }
   ],
   "source": [
    "#cell_df['Class'] = cell_df['Class'].astype('int')\n",
    "y = np.asarray(cell_df['label'])\n",
    "y [0:5]"
   ]
  },
  {
   "cell_type": "code",
   "execution_count": 5,
   "metadata": {},
   "outputs": [
    {
     "name": "stdout",
     "output_type": "stream",
     "text": [
      "Train set: (457, 4) (457,)\n",
      "Test set: (115, 4) (115,)\n"
     ]
    }
   ],
   "source": [
    "from sklearn import preprocessing\n",
    "from sklearn.model_selection import train_test_split\n",
    "\n",
    "X_train, X_test, y_train, y_test = train_test_split( X, y, test_size=0.2, random_state=4,stratify=y)\n",
    "print ('Train set:', X_train.shape,  y_train.shape)\n",
    "print ('Test set:', X_test.shape,  y_test.shape)"
   ]
  },
  {
   "cell_type": "code",
   "execution_count": 13,
   "metadata": {},
   "outputs": [
    {
     "name": "stdout",
     "output_type": "stream",
     "text": [
      "Matriz de confusión:\n",
      "[[104   0]\n",
      " [  0  11]]\n",
      "Precisión por clase: [1. 1.]\n",
      "Recall por clase: [1. 1.]\n",
      "MLP' Accuracy:  1.0\n",
      "MLP' f1:  [1. 1.]\n"
     ]
    }
   ],
   "source": [
    "from sklearn import metrics\n",
    "import matplotlib.pyplot as plt\n",
    "from sklearn.metrics import f1_score\n",
    "from sklearn.metrics import confusion_matrix\n",
    "import warnings\n",
    "warnings.filterwarnings('ignore')\n",
    "\n",
    "\n",
    "#no te tendrias que quedar con la que te de mejor accuracy?\n",
    "i=0\n",
    "max = 0\n",
    "best_clf =0\n",
    "\n",
    "clf = MLPClassifier(hidden_layer_sizes=(3,2),activation='relu')\n",
    "clf.fit(X_train,y_train)\n",
    "\n",
    "y_hat = clf.predict(X_test)\n",
    "\n",
    "\n",
    "cm = metrics.confusion_matrix(y_test, y_hat)\n",
    "print(\"Matriz de confusión:\")\n",
    "print(cm)\n",
    "\n",
    "precision = metrics.precision_score(y_test, y_hat, average=None)\n",
    "print(\"Precisión por clase:\", precision)\n",
    "\n",
    "recall = metrics.recall_score(y_test, y_hat, average=None)\n",
    "print(\"Recall por clase:\", recall)\n",
    "\n",
    "accuracy = metrics.accuracy_score(y_test, y_hat)\n",
    "print(\"MLP' Accuracy: \", accuracy)\n",
    "print(\"MLP' f1: \", f1_score(y_test, y_hat, average=None))"
   ]
  },
  {
   "cell_type": "code",
   "execution_count": 7,
   "metadata": {},
   "outputs": [
    {
     "data": {
      "text/plain": [
       "'#include <eml_net.h>\\nstatic const float model_layer0_weights[8] = { -0.000000f, -0.409937f, 0.414686f, 0.321368f, -0.800480f, 0.262991f, -0.194687f, 0.000006f };\\nstatic const float model_layer0_biases[2] = { 0.368131f, 0.815568f };\\nstatic const float model_layer1_weights[4] = { 1.266918f, 0.612413f, 0.282060f, -0.788367f };\\nstatic const float model_layer1_biases[2] = { -1.360967f, -0.062617f };\\nstatic const float model_layer2_weights[2] = { 0.645962f, -1.161038f };\\nstatic const float model_layer2_biases[1] = { 0.776101f };\\nstatic const float model_layer3_weights[1] = { 0.192853f };\\nstatic const float model_layer3_biases[1] = { 0.799992f };\\nstatic const float model_layer4_weights[1] = { 0.336948f };\\nstatic const float model_layer4_biases[1] = { -1.403981f };\\nstatic const float model_layer5_weights[1] = { 0.400508f };\\nstatic const float model_layer5_biases[1] = { -2.012227f };\\nstatic float model_buf1[4];\\nstatic float model_buf2[4];\\nstatic const EmlNetLayer model_layers[6] = { \\n{ 2, 4, model_layer0_weights, model_layer0_biases, EmlNetActivationRelu }, \\n{ 2, 2, model_layer1_weights, model_layer1_biases, EmlNetActivationRelu }, \\n{ 1, 2, model_layer2_weights, model_layer2_biases, EmlNetActivationRelu }, \\n{ 1, 1, model_layer3_weights, model_layer3_biases, EmlNetActivationRelu }, \\n{ 1, 1, model_layer4_weights, model_layer4_biases, EmlNetActivationRelu }, \\n{ 1, 1, model_layer5_weights, model_layer5_biases, EmlNetActivationLogistic } };\\nstatic EmlNet model = { 6, model_layers, model_buf1, model_buf2, 4 };\\n\\n    int32_t\\n    model_predict(const float *features, int32_t n_features)\\n    {\\n        return eml_net_predict(&model, features, n_features);\\n\\n    }\\n    '"
      ]
     },
     "execution_count": 7,
     "metadata": {},
     "output_type": "execute_result"
    }
   ],
   "source": [
    "import emlearn\n",
    "cmodel_c = emlearn.convert(clf, kind = \"MLPClassifier\")\n",
    "cmodel_c.save(file=\"model.h\")"
   ]
  }
 ],
 "metadata": {
  "kernelspec": {
   "display_name": "Python 3",
   "language": "python",
   "name": "python3"
  },
  "language_info": {
   "codemirror_mode": {
    "name": "ipython",
    "version": 3
   },
   "file_extension": ".py",
   "mimetype": "text/x-python",
   "name": "python",
   "nbconvert_exporter": "python",
   "pygments_lexer": "ipython3",
   "version": "3.8.6"
  }
 },
 "nbformat": 4,
 "nbformat_minor": 4
}
