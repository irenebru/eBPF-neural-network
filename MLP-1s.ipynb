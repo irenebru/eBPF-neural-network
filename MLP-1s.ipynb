{
 "cells": [
  {
   "cell_type": "code",
   "execution_count": 2,
   "metadata": {},
   "outputs": [],
   "source": [
    "import numpy as np \n",
    "import pandas as pd\n",
    "from sklearn.neural_network import MLPClassifier"
   ]
  },
  {
   "cell_type": "code",
   "execution_count": 3,
   "metadata": {},
   "outputs": [
    {
     "data": {
      "text/html": [
       "<div>\n",
       "<style scoped>\n",
       "    .dataframe tbody tr th:only-of-type {\n",
       "        vertical-align: middle;\n",
       "    }\n",
       "\n",
       "    .dataframe tbody tr th {\n",
       "        vertical-align: top;\n",
       "    }\n",
       "\n",
       "    .dataframe thead th {\n",
       "        text-align: right;\n",
       "    }\n",
       "</style>\n",
       "<table border=\"1\" class=\"dataframe\">\n",
       "  <thead>\n",
       "    <tr style=\"text-align: right;\">\n",
       "      <th></th>\n",
       "      <th>second</th>\n",
       "      <th>src</th>\n",
       "      <th>DioCount</th>\n",
       "      <th>DisCount</th>\n",
       "      <th>DaoCount</th>\n",
       "      <th>OtherMsg</th>\n",
       "      <th>label</th>\n",
       "    </tr>\n",
       "  </thead>\n",
       "  <tbody>\n",
       "    <tr>\n",
       "      <th>0</th>\n",
       "      <td>60.0</td>\n",
       "      <td>fe80::c30c:0:0:c</td>\n",
       "      <td>0</td>\n",
       "      <td>224</td>\n",
       "      <td>0</td>\n",
       "      <td>0</td>\n",
       "      <td>1</td>\n",
       "    </tr>\n",
       "    <tr>\n",
       "      <th>1</th>\n",
       "      <td>60.0</td>\n",
       "      <td>fe80::c30c:0:0:3</td>\n",
       "      <td>30</td>\n",
       "      <td>0</td>\n",
       "      <td>0</td>\n",
       "      <td>0</td>\n",
       "      <td>0</td>\n",
       "    </tr>\n",
       "    <tr>\n",
       "      <th>2</th>\n",
       "      <td>60.0</td>\n",
       "      <td>fe80::c30c:0:0:a</td>\n",
       "      <td>0</td>\n",
       "      <td>0</td>\n",
       "      <td>6</td>\n",
       "      <td>0</td>\n",
       "      <td>0</td>\n",
       "    </tr>\n",
       "    <tr>\n",
       "      <th>3</th>\n",
       "      <td>61.0</td>\n",
       "      <td>fe80::c30c:0:0:8</td>\n",
       "      <td>0</td>\n",
       "      <td>0</td>\n",
       "      <td>33</td>\n",
       "      <td>0</td>\n",
       "      <td>0</td>\n",
       "    </tr>\n",
       "    <tr>\n",
       "      <th>4</th>\n",
       "      <td>61.0</td>\n",
       "      <td>fe80::c30c:0:0:c</td>\n",
       "      <td>0</td>\n",
       "      <td>142</td>\n",
       "      <td>0</td>\n",
       "      <td>0</td>\n",
       "      <td>1</td>\n",
       "    </tr>\n",
       "  </tbody>\n",
       "</table>\n",
       "</div>"
      ],
      "text/plain": [
       "   second               src  DioCount  DisCount  DaoCount  OtherMsg  label\n",
       "0    60.0  fe80::c30c:0:0:c         0       224         0         0      1\n",
       "1    60.0  fe80::c30c:0:0:3        30         0         0         0      0\n",
       "2    60.0  fe80::c30c:0:0:a         0         0         6         0      0\n",
       "3    61.0  fe80::c30c:0:0:8         0         0        33         0      0\n",
       "4    61.0  fe80::c30c:0:0:c         0       142         0         0      1"
      ]
     },
     "execution_count": 3,
     "metadata": {},
     "output_type": "execute_result"
    }
   ],
   "source": [
    "import pandas as pd\n",
    "cell_df = pd.read_csv(\"helloFlood1sFrame.csv\",sep=\";\")\n",
    "cell_df.head()"
   ]
  },
  {
   "cell_type": "code",
   "execution_count": 4,
   "metadata": {},
   "outputs": [
    {
     "data": {
      "text/plain": [
       "array([[  0, 224,   0,   0],\n",
       "       [ 30,   0,   0,   0],\n",
       "       [  0,   0,   6,   0],\n",
       "       [  0,   0,  33,   0],\n",
       "       [  0, 142,   0,   0]], dtype=int64)"
      ]
     },
     "execution_count": 4,
     "metadata": {},
     "output_type": "execute_result"
    }
   ],
   "source": [
    "import numpy as np\n",
    "feature_df = cell_df[['DioCount','DisCount','DaoCount','OtherMsg']]\n",
    "X = np.asarray(feature_df)\n",
    "X[0:5]"
   ]
  },
  {
   "cell_type": "code",
   "execution_count": 5,
   "metadata": {},
   "outputs": [
    {
     "data": {
      "text/plain": [
       "array([1, 0, 0, 0, 1], dtype=int64)"
      ]
     },
     "execution_count": 5,
     "metadata": {},
     "output_type": "execute_result"
    }
   ],
   "source": [
    "#cell_df['Class'] = cell_df['Class'].astype('int')\n",
    "y = np.asarray(cell_df['label'])\n",
    "y [0:5]"
   ]
  },
  {
   "cell_type": "code",
   "execution_count": 6,
   "metadata": {},
   "outputs": [
    {
     "name": "stdout",
     "output_type": "stream",
     "text": [
      "Train set: (1536, 4) (1536,)\n",
      "Test set: (384, 4) (384,)\n"
     ]
    }
   ],
   "source": [
    "from sklearn import preprocessing\n",
    "from sklearn.model_selection import train_test_split\n",
    "\n",
    "X_train, X_test, y_train, y_test = train_test_split( X, y, test_size=0.2, random_state=4,stratify=y)\n",
    "print ('Train set:', X_train.shape,  y_train.shape)\n",
    "print ('Test set:', X_test.shape,  y_test.shape)"
   ]
  },
  {
   "cell_type": "code",
   "execution_count": 7,
   "metadata": {},
   "outputs": [
    {
     "name": "stdout",
     "output_type": "stream",
     "text": [
      "Matriz de confusión:\n",
      "[[302   0]\n",
      " [  2  80]]\n",
      "Precisión por clase: [0.99342105 1.        ]\n",
      "Recall por clase: [1.         0.97560976]\n",
      "MLP' Accuracy:  0.9947916666666666\n",
      "MLP' f1:  [0.99669967 0.98765432]\n"
     ]
    }
   ],
   "source": [
    "from sklearn import metrics\n",
    "import matplotlib.pyplot as plt\n",
    "from sklearn.metrics import f1_score\n",
    "from sklearn.metrics import confusion_matrix\n",
    "import warnings\n",
    "warnings.filterwarnings('ignore')\n",
    "\n",
    "\n",
    "i=0\n",
    "max = 0\n",
    "\n",
    "clf = MLPClassifier(hidden_layer_sizes=(3,2),activation='relu')\n",
    "clf.fit(X_train,y_train)\n",
    "\n",
    "y_hat = clf.predict(X_test)\n",
    "\n",
    "\n",
    "\n",
    "\n",
    "cm = metrics.confusion_matrix(y_test, y_hat)\n",
    "print(\"Matriz de confusión:\")\n",
    "print(cm)\n",
    "\n",
    "precision = metrics.precision_score(y_test, y_hat, average=None)\n",
    "print(\"Precisión por clase:\", precision)\n",
    "\n",
    "recall = metrics.recall_score(y_test, y_hat, average=None)\n",
    "print(\"Recall por clase:\", recall)\n",
    "\n",
    "accuracy = metrics.accuracy_score(y_test, y_hat)\n",
    "print(\"MLP' Accuracy: \", accuracy)\n",
    "print(\"MLP' f1: \", f1_score(y_test, y_hat, average=None))\n"
   ]
  },
  {
   "cell_type": "code",
   "execution_count": 8,
   "metadata": {},
   "outputs": [
    {
     "data": {
      "text/plain": [
       "'#include <eml_net.h>\\nstatic const float model_layer0_weights[12] = { 0.000000f, 0.532974f, 0.566811f, -0.000000f, -0.096194f, -0.289263f, -0.046217f, 0.214632f, 0.650580f, 0.000012f, -0.019030f, 0.037212f };\\nstatic const float model_layer0_biases[3] = { -0.152620f, 0.463197f, 0.696493f };\\nstatic const float model_layer1_weights[6] = { -0.000000f, 0.000012f, -0.409626f, -0.000000f, -1.253383f, -0.011816f };\\nstatic const float model_layer1_biases[2] = { 1.966223f, -0.337646f };\\nstatic const float model_layer2_weights[2] = { 1.842166f, 0.183000f };\\nstatic const float model_layer2_biases[1] = { -1.238827f };\\nstatic float model_buf1[4];\\nstatic float model_buf2[4];\\nstatic const EmlNetLayer model_layers[3] = { \\n{ 3, 4, model_layer0_weights, model_layer0_biases, EmlNetActivationRelu }, \\n{ 2, 3, model_layer1_weights, model_layer1_biases, EmlNetActivationRelu }, \\n{ 1, 2, model_layer2_weights, model_layer2_biases, EmlNetActivationLogistic } };\\nstatic EmlNet model = { 3, model_layers, model_buf1, model_buf2, 4 };\\n\\n    int32_t\\n    model_predict(const float *features, int32_t n_features)\\n    {\\n        return eml_net_predict(&model, features, n_features);\\n\\n    }\\n    '"
      ]
     },
     "execution_count": 8,
     "metadata": {},
     "output_type": "execute_result"
    }
   ],
   "source": [
    "import emlearn\n",
    "cmodel_c = emlearn.convert(clf, kind = \"MLPClassifier\")\n",
    "cmodel_c.save(file=\"model.h\")"
   ]
  }
 ],
 "metadata": {
  "kernelspec": {
   "display_name": "Python 3",
   "language": "python",
   "name": "python3"
  },
  "language_info": {
   "codemirror_mode": {
    "name": "ipython",
    "version": 3
   },
   "file_extension": ".py",
   "mimetype": "text/x-python",
   "name": "python",
   "nbconvert_exporter": "python",
   "pygments_lexer": "ipython3",
   "version": "3.8.6"
  }
 },
 "nbformat": 4,
 "nbformat_minor": 4
}
